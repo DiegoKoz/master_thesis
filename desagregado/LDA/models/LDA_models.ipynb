{
 "cells": [
  {
   "cell_type": "code",
   "execution_count": 1,
   "metadata": {},
   "outputs": [],
   "source": [
    "import pandas as pd\n",
    "from sklearn.decomposition import LatentDirichletAllocation\n",
    "from sklearn.feature_extraction.text import TfidfTransformer\n",
    "import json\n",
    "import pickle\n",
    "import numpy as np"
   ]
  },
  {
   "cell_type": "code",
   "execution_count": 2,
   "metadata": {},
   "outputs": [
    {
     "name": "stderr",
     "output_type": "stream",
     "text": [
      "/home/diego/.local/lib/python3.6/site-packages/ipykernel_launcher.py:1: FutureWarning: read_table is deprecated, use read_csv instead.\n",
      "  \"\"\"Entry point for launching an IPython kernel.\n"
     ]
    }
   ],
   "source": [
    "df = pd.read_table('../../dataset/Export_agg_country_prod_yr.txt', encoding=\"latin-1\",sep=',',dtype={'year':int,'HS':str,'SITC':str, 'CUCI': str})"
   ]
  },
  {
   "cell_type": "code",
   "execution_count": 3,
   "metadata": {},
   "outputs": [],
   "source": [
    "#voy a reutilizar los códigos en el shiny\n",
    "#pd.DataFrame(df.groupby([\"reporter\",\"rep_iso\"]).size()).reset_index()[[\"reporter\",\"rep_iso\"]].to_csv(\"codigos_paises.csv\",index=None)"
   ]
  },
  {
   "cell_type": "code",
   "execution_count": 3,
   "metadata": {},
   "outputs": [],
   "source": [
    "class Procesamiento_LDA():\n",
    "    \n",
    "        def __init__(self, df, level=4):\n",
    "            df = self.clean(df, level)\n",
    "            productos = df.pivot_table(index=['rep_iso','year'],columns='SITC',values='value').columns\n",
    "            product_df = pd.read_excel(\"../names/UN Comtrade Commodity Classifications.xlsx\")\n",
    "            ClassS3 = product_df[product_df[\"Classification\"]=='S3']\n",
    "            Codes = ClassS3.set_index('Code')['Description'].to_dict()\n",
    "            self.df = df\n",
    "            self.productos = productos\n",
    "            self.Codes = Codes\n",
    "        \n",
    "        def clean(self, df, level):\n",
    "            df = df[df[\"SITC\"].notnull()]\n",
    "            df[\"value\"] = df[\"value\"].fillna(0)\n",
    "            df[\"level\"]=df.apply(lambda x: len(x[\"SITC\"]),1)\n",
    "            df = df.loc[df[\"level\"]==5, ['year', 'reporter', 'rep_iso','SITC','value']]\n",
    "            df['SITC'] = df['SITC'].apply(lambda x: x[0:level]) #Me quedo con los primeros 4 dígitos\n",
    "            df= df.groupby(['year','reporter','rep_iso','SITC']).sum()\n",
    "            return df\n",
    "        \n",
    "        def matrix_transform(self, df):\n",
    "            matrix = df.pivot_table(index=['rep_iso','year'],columns='SITC',values='value')\n",
    "            matrix = matrix.fillna(0)\n",
    "            matrix = matrix.to_sparse(fill_value=0)\n",
    "            return matrix\n",
    "        \n",
    "        def lda_transform(self,k,save_model=True):\n",
    "            tfidf = TfidfTransformer()\n",
    "            matrix = self.matrix_transform(self.df)\n",
    "            matrix = tfidf.fit_transform(matrix)\n",
    "            lda_model = LatentDirichletAllocation(n_components=k, max_iter=75, random_state=1234,batch_size=200, learning_method='batch') #instance\n",
    "            lda_model.fit(matrix) #fit\n",
    "            if save_model:\n",
    "                pickle.dump(lda_model, open(\"lda{}.pkl\".format(k), 'wb')) #save    \n",
    "            return lda_model, matrix, k\n",
    "        \n",
    "        def norm_comp(self,lda_model):\n",
    "            norm_components = lda_model.components_ / lda_model.components_.sum(axis=1)[:, np.newaxis]\n",
    "            return norm_components\n",
    "        \n",
    "        def print_components(self, lda_model):\n",
    "            \n",
    "            norm_components = self.norm_comp(lda_model)\n",
    "            for i in range(lda_model.components_.shape[0]):\n",
    "                topic = norm_components[i]\n",
    "                print(\"Componente %d:\" % (i+1))\n",
    "                top_n = [self.productos[j] for j in np.argsort(topic)[:-15 :-1]]\n",
    "                top_n_props = topic[np.argsort(topic)][:-15 :-1]\n",
    "                for j,producto in enumerate(top_n):\n",
    "                    try:\n",
    "                        print(\"{}-{}. Prop: {}%\".format(producto, self.Codes[producto],+np.round(top_n_props[j]*100,3)))\n",
    "                    except:\n",
    "                        pass\n",
    "                print(\"----------------------\")\n",
    "\n",
    "        def save_results(self, lda_model,matrix, k):\n",
    "            \n",
    "            norm_components = self.norm_comp(lda_model)\n",
    "            components_df = pd.DataFrame(norm_components)\n",
    "            components_df.columns = self.productos\n",
    "\n",
    "            components_df.to_csv(\"results/Dist_cadenas{}.csv\".format(k), index=False)\n",
    "\n",
    "            result = lda_model.transform(matrix)\n",
    "            result = pd.DataFrame(result)\n",
    "            result.index = df.pivot_table(index=['rep_iso','year'],columns='SITC',values='value').index\n",
    "            result = result.reset_index()\n",
    "            result.to_csv(\"results/Dist_paises{}.csv\".format(k),index=False)\n",
    "        \n",
    "\n"
   ]
  },
  {
   "cell_type": "code",
   "execution_count": 4,
   "metadata": {},
   "outputs": [],
   "source": [
    "procesadora_lda = Procesamiento_LDA(df, 4)"
   ]
  },
  {
   "cell_type": "code",
   "execution_count": 9,
   "metadata": {},
   "outputs": [],
   "source": [
    "# 2 componentes\n",
    "lda_model, matrix, k = procesadora_lda.lda_transform(2,save_model = True)\n",
    "procesadora_lda.save_results(lda_model,matrix, k)\n",
    "\n",
    "# 4 componentes\n",
    "lda_model, matrix, k = procesadora_lda.lda_transform(4,save_model = True)\n",
    "procesadora_lda.save_results(lda_model,matrix, k)\n",
    "\n",
    "# 6 componentes\n",
    "lda_model, matrix, k = procesadora_lda.lda_transform(6,save_model = True)\n",
    "procesadora_lda.save_results(lda_model,matrix, k)\n",
    "\n",
    "# 8 componentes\n",
    "lda_model, matrix, k = procesadora_lda.lda_transform(8,save_model = True)\n",
    "procesadora_lda.save_results(lda_model,matrix, k)\n",
    "\n",
    "# 10 componentes\n",
    "lda_model, matrix, k = procesadora_lda.lda_transform(10,save_model = True)\n",
    "procesadora_lda.save_results(lda_model,matrix, k)"
   ]
  },
  {
   "cell_type": "code",
   "execution_count": null,
   "metadata": {},
   "outputs": [],
   "source": [
    "# 20 componentes\n",
    "lda_model, matrix, k = procesadora_lda.lda_transform(20,save_model = True)\n",
    "procesadora_lda.save_results(lda_model,matrix, k)\n",
    "\n",
    "# 30 componentes\n",
    "lda_model, matrix, k = procesadora_lda.lda_transform(30,save_model = True)\n",
    "procesadora_lda.save_results(lda_model,matrix, k)\n",
    "\n",
    "# 40 componentes\n",
    "lda_model, matrix, k = procesadora_lda.lda_transform(40,save_model = True)\n",
    "procesadora_lda.save_results(lda_model,matrix, k)"
   ]
  },
  {
   "cell_type": "code",
   "execution_count": 5,
   "metadata": {},
   "outputs": [],
   "source": [
    "# 100 componentes\n",
    "lda_model, matrix, k = procesadora_lda.lda_transform(100,save_model = True)\n",
    "procesadora_lda.save_results(lda_model,matrix, k)"
   ]
  },
  {
   "cell_type": "code",
   "execution_count": 6,
   "metadata": {},
   "outputs": [],
   "source": [
    "# 200 componentes\n",
    "lda_model, matrix, k = procesadora_lda.lda_transform(200,save_model = True)\n",
    "procesadora_lda.save_results(lda_model,matrix, k)"
   ]
  }
 ],
 "metadata": {
  "kernelspec": {
   "display_name": "Python 3",
   "language": "python",
   "name": "python3"
  },
  "language_info": {
   "codemirror_mode": {
    "name": "ipython",
    "version": 3
   },
   "file_extension": ".py",
   "mimetype": "text/x-python",
   "name": "python",
   "nbconvert_exporter": "python",
   "pygments_lexer": "ipython3",
   "version": "3.6.7"
  }
 },
 "nbformat": 4,
 "nbformat_minor": 2
}
