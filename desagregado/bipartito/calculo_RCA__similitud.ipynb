{
 "cells": [
  {
   "cell_type": "code",
   "execution_count": 21,
   "metadata": {},
   "outputs": [
    {
     "name": "stderr",
     "output_type": "stream",
     "text": [
      "\n",
      "Attaching package: ‘magrittr’\n",
      "\n",
      "The following object is masked from ‘package:purrr’:\n",
      "\n",
      "    set_names\n",
      "\n",
      "The following object is masked from ‘package:tidyr’:\n",
      "\n",
      "    extract\n",
      "\n"
     ]
    }
   ],
   "source": [
    "library(tidyverse)\n",
    "library(countrycode)\n",
    "library(magrittr)"
   ]
  },
  {
   "cell_type": "markdown",
   "metadata": {},
   "source": [
    "## Calculo RCA"
   ]
  },
  {
   "cell_type": "code",
   "execution_count": 17,
   "metadata": {},
   "outputs": [],
   "source": [
    "rel_comp_adv <- function(data, country_filt=NA, digits=4){\n",
    "  \n",
    "  if (digits<5) { #si tiene 5 son los datos originales y me ahorro el calculo\n",
    "    data <- data %>% \n",
    "      mutate(SITC = as.character(substr(SITC,1,digits))) %>% \n",
    "      group_by(year, reporter,rep_iso, SITC) %>% \n",
    "      summarise(value = sum(value))\n",
    "\n",
    "  }\n",
    "  \n",
    "  #el denominador se calcula con todos los paises\n",
    "  mean_dist_SITC <- data %>%\n",
    "    group_by(year, SITC) %>% \n",
    "    summarise(value = sum(as.numeric(value),na.rm = T)) %>% \n",
    "    group_by(year) %>% \n",
    "    mutate(mean_prop = value/sum(value, na.rm = TRUE))\n",
    "\n",
    "  if (!is.na(country_filt)) { #filtro para elegir resultados solo de una seleccion de paises\n",
    "    data <- data %>% \n",
    "    filter(rep_iso %in% country_filt)\n",
    "  }\n",
    "  \n",
    "  #el denominador despues del filtro\n",
    "  data <- data %>%\n",
    "    group_by(year, SITC, rep_iso,reporter) %>% \n",
    "    summarise(value = sum(as.numeric(value),na.rm = T)) %>% \n",
    "    group_by(year,rep_iso) %>% \n",
    "    mutate(prop = value / sum(value, na.rm = TRUE))\n",
    "  \n",
    "  data <- data %>% \n",
    "    left_join(mean_dist_SITC %>% select(year,SITC,mean_prop),by = c(\"year\", \"SITC\")) %>% \n",
    "    mutate(RCA = prop/mean_prop)\n",
    "\n",
    "  data\n",
    "}\n"
   ]
  },
  {
   "cell_type": "code",
   "execution_count": 26,
   "metadata": {},
   "outputs": [],
   "source": [
    "#Leo la info\n",
    "data <- read_csv(file = \"../dataset/Export_World_directo.csv\",col_types = cols(SITC = col_character()))\n",
    "\n",
    "#solo tengo que quedarme con los productos a 5 digitos\n",
    "data <- data %>% filter(nchar(SITC)==5)"
   ]
  },
  {
   "cell_type": "code",
   "execution_count": 27,
   "metadata": {},
   "outputs": [],
   "source": [
    "RCA <- rel_comp_adv(data = data, digits = 4)\n",
    "\n",
    "\n",
    "write_delim(RCA,\"results/RCA_mundo4d.txt\",delim = \",\")"
   ]
  },
  {
   "cell_type": "markdown",
   "metadata": {},
   "source": [
    "# Calculo Similitud"
   ]
  },
  {
   "cell_type": "code",
   "execution_count": 28,
   "metadata": {},
   "outputs": [],
   "source": [
    "symmetric_max <- function(M){\n",
    "  M[M<t(M)] <- M[M<t(M)]\n",
    "  M[M>t(M)] <- t(M)[M>t(M)]\n",
    "  return(M)\n",
    "}"
   ]
  },
  {
   "cell_type": "code",
   "execution_count": 29,
   "metadata": {},
   "outputs": [],
   "source": [
    "similarity <- function(RCA){\n",
    "  \n",
    "  cualitative_RCA <- RCA %>% \n",
    "    mutate(RCA = as.integer(case_when(RCA > 1 ~ 1,\n",
    "                                      RCA <= 1 ~ 0)))\n",
    "  w <- cualitative_RCA %>% spread(., reporter,RCA,fill = 0) %>% \n",
    "    ungroup() \n",
    "  \n",
    "  SITC <- w$SITC \n",
    "  mat <- as.matrix(w[,-1])\n",
    "  v <- mat %*% t(mat)                                   \n",
    "  diag(v) <- 0                                      \n",
    "  dimnames(v) <- list(SITC, SITC) \n",
    "  totales <- rowSums(w[,-1])\n",
    "  probabilities <- v/totales\n",
    "  \n",
    "  symmetric_proba <- symmetric_max(probabilities)\n",
    "  return(symmetric_proba)   \n",
    "}"
   ]
  },
  {
   "cell_type": "code",
   "execution_count": 30,
   "metadata": {},
   "outputs": [],
   "source": [
    "RCA <- read_csv(\"results/RCA_mundo4d.txt\",col_types = cols(SITC = col_character()))"
   ]
  },
  {
   "cell_type": "code",
   "execution_count": 31,
   "metadata": {},
   "outputs": [
    {
     "name": "stdout",
     "output_type": "stream",
     "text": [
      "Observations: 1,976,058\n",
      "Variables: 8\n",
      "$ year      <int> 1996, 1996, 1996, 1996, 1996, 1996, 1996, 1996, 1996, 199...\n",
      "$ SITC      <chr> \"1110\", \"1110\", \"1110\", \"1110\", \"1110\", \"1110\", \"1110\", \"...\n",
      "$ rep_iso   <chr> \"ALB\", \"AND\", \"ARG\", \"AUS\", \"AUT\", \"BEL\", \"BGR\", \"CAN\", \"...\n",
      "$ reporter  <chr> \"Albania\", \"Andorra\", \"Argentina\", \"Australia\", \"Austria\"...\n",
      "$ value     <dbl> 6278, 1890590, 16736860, 32270112, 209871220, 367487383, ...\n",
      "$ prop      <dbl> 3.054278e-05, 4.077423e-02, 9.772752e-04, 6.681516e-04, 3...\n",
      "$ mean_prop <dbl> 0.0009233057, 0.0009233057, 0.0009233057, 0.0009233057, 0...\n",
      "$ RCA       <dbl> 0.033079813, 44.161134546, 1.058452460, 0.723651520, 3.83...\n"
     ]
    }
   ],
   "source": [
    "RCA %>% glimpse"
   ]
  },
  {
   "cell_type": "code",
   "execution_count": 32,
   "metadata": {},
   "outputs": [],
   "source": [
    "RCA_2016 <- RCA %>%\n",
    "filter(year == 2016)%>%\n",
    "select(-year, -rep_iso, -value, -prop, -mean_prop)\n"
   ]
  },
  {
   "cell_type": "code",
   "execution_count": 53,
   "metadata": {},
   "outputs": [],
   "source": [
    "symmetric_proba <- similarity(RCA = RCA_2016)\n",
    "symmetric_proba_df <-as_data_frame(symmetric_proba)\n",
    "symmetric_proba_df$SITC <-names(symmetric_proba_df)\n",
    "symmetric_proba_df <- symmetric_proba_df %>% select(SITC, everything())"
   ]
  },
  {
   "cell_type": "code",
   "execution_count": 54,
   "metadata": {},
   "outputs": [],
   "source": [
    "write_csv(data.frame(symmetric_proba),\"results/similitud_4d_2016.csv\")"
   ]
  },
  {
   "cell_type": "markdown",
   "metadata": {},
   "source": [
    "similitud con RCA promedio"
   ]
  },
  {
   "cell_type": "code",
   "execution_count": 55,
   "metadata": {},
   "outputs": [],
   "source": [
    "RCA_promedio <- RCA %>%\n",
    "group_by(reporter,SITC)%>%\n",
    "summarise(RCA = mean(RCA))"
   ]
  },
  {
   "cell_type": "code",
   "execution_count": 56,
   "metadata": {},
   "outputs": [],
   "source": [
    "symmetric_proba <- similarity(RCA = RCA_promedio)\n",
    "symmetric_proba_df <-as_data_frame(symmetric_proba)\n",
    "symmetric_proba_df$SITC <-names(symmetric_proba_df)\n",
    "symmetric_proba_df <- symmetric_proba_df %>% select(SITC, everything())\n",
    "\n",
    "write_csv(data.frame(symmetric_proba),\"results/similitud_4d_mean.csv\")"
   ]
  },
  {
   "cell_type": "code",
   "execution_count": 59,
   "metadata": {},
   "outputs": [
    {
     "data": {
      "text/html": [
       "<ol class=list-inline>\n",
       "\t<li>898</li>\n",
       "\t<li>898</li>\n",
       "</ol>\n"
      ],
      "text/latex": [
       "\\begin{enumerate*}\n",
       "\\item 898\n",
       "\\item 898\n",
       "\\end{enumerate*}\n"
      ],
      "text/markdown": [
       "1. 898\n",
       "2. 898\n",
       "\n",
       "\n"
      ],
      "text/plain": [
       "[1] 898 898"
      ]
     },
     "metadata": {},
     "output_type": "display_data"
    }
   ],
   "source": [
    "dim(symmetric_proba) "
   ]
  }
 ],
 "metadata": {
  "kernelspec": {
   "display_name": "R",
   "language": "R",
   "name": "ir"
  },
  "language_info": {
   "codemirror_mode": "r",
   "file_extension": ".r",
   "mimetype": "text/x-r-source",
   "name": "R",
   "pygments_lexer": "r",
   "version": "3.5.1"
  }
 },
 "nbformat": 4,
 "nbformat_minor": 2
}
